{
  "nbformat": 4,
  "nbformat_minor": 0,
  "metadata": {
    "colab": {
      "name": "Thapliyal_Omanshu_aml.ipynb",
      "provenance": [],
      "collapsed_sections": [],
      "include_colab_link": true
    },
    "kernelspec": {
      "name": "python2",
      "display_name": "Python 2"
    }
  },
  "cells": [
    {
      "cell_type": "markdown",
      "metadata": {
        "id": "view-in-github",
        "colab_type": "text"
      },
      "source": [
        "<a href=\"https://colab.research.google.com/github/omanshuthapliyal/ML2Coursework/blob/master/Thapliyal_Omanshu_aml.ipynb\" target=\"_parent\"><img src=\"https://colab.research.google.com/assets/colab-badge.svg\" alt=\"Open In Colab\"/></a>"
      ]
    },
    {
      "cell_type": "markdown",
      "metadata": {
        "colab_type": "text",
        "id": "NiZYmbLsCx8C"
      },
      "source": [
        "#Student Name: \n",
        "#ECE 595 Machine Learning II\n",
        "#Project 4: Adversarial Machine Learning - Student Code"
      ]
    },
    {
      "cell_type": "code",
      "metadata": {
        "id": "ZH3b6I2oq_6i",
        "colab_type": "code",
        "outputId": "02d74593-69f4-437b-9788-11e65e5eb28a",
        "colab": {
          "base_uri": "https://localhost:8080/",
          "height": 587
        }
      },
      "source": [
        "#Install Cleverhans (version Cleverhans 2.1.0 is most compatable with Python 2.x)\n",
        "!pip install cleverhans==2.1.0"
      ],
      "execution_count": 2,
      "outputs": [
        {
          "output_type": "stream",
          "text": [
            "Collecting cleverhans==2.1.0\n",
            "\u001b[?25l  Downloading https://files.pythonhosted.org/packages/e8/ea/c057263636b14c28923b42ed8ef52c0ba24d38e05fc3720f62df80a2f735/cleverhans-2.1.0.tar.gz (64kB)\n",
            "\u001b[K     |████████████████████████████████| 71kB 2.3MB/s \n",
            "\u001b[?25hRequirement already satisfied: nose in /usr/local/lib/python2.7/dist-packages (from cleverhans==2.1.0) (1.3.7)\n",
            "Collecting pycodestyle\n",
            "\u001b[?25l  Downloading https://files.pythonhosted.org/packages/0e/0c/04a353e104d2f324f8ee5f4b32012618c1c86dd79e52a433b64fceed511b/pycodestyle-2.5.0-py2.py3-none-any.whl (51kB)\n",
            "\u001b[K     |████████████████████████████████| 51kB 6.8MB/s \n",
            "\u001b[?25hRequirement already satisfied: scipy in /usr/local/lib/python2.7/dist-packages (from cleverhans==2.1.0) (1.2.2)\n",
            "Requirement already satisfied: matplotlib in /usr/local/lib/python2.7/dist-packages (from cleverhans==2.1.0) (2.2.4)\n",
            "Collecting mnist~=0.2\n",
            "  Downloading https://files.pythonhosted.org/packages/c6/c4/5db3bfe009f8d71f1d532bbadbd0ec203764bba3a469e4703a889db8e5e0/mnist-0.2.2-py2.py3-none-any.whl\n",
            "Requirement already satisfied: numpy in /usr/local/lib/python2.7/dist-packages (from cleverhans==2.1.0) (1.16.4)\n",
            "Requirement already satisfied: cycler>=0.10 in /usr/local/lib/python2.7/dist-packages (from matplotlib->cleverhans==2.1.0) (0.10.0)\n",
            "Requirement already satisfied: backports.functools-lru-cache in /usr/local/lib/python2.7/dist-packages (from matplotlib->cleverhans==2.1.0) (1.5)\n",
            "Requirement already satisfied: subprocess32 in /usr/local/lib/python2.7/dist-packages (from matplotlib->cleverhans==2.1.0) (3.5.4)\n",
            "Requirement already satisfied: kiwisolver>=1.0.1 in /usr/local/lib/python2.7/dist-packages (from matplotlib->cleverhans==2.1.0) (1.1.0)\n",
            "Requirement already satisfied: pytz in /usr/local/lib/python2.7/dist-packages (from matplotlib->cleverhans==2.1.0) (2018.9)\n",
            "Requirement already satisfied: six>=1.10 in /usr/local/lib/python2.7/dist-packages (from matplotlib->cleverhans==2.1.0) (1.12.0)\n",
            "Requirement already satisfied: python-dateutil>=2.1 in /usr/local/lib/python2.7/dist-packages (from matplotlib->cleverhans==2.1.0) (2.5.3)\n",
            "Requirement already satisfied: pyparsing!=2.0.4,!=2.1.2,!=2.1.6,>=2.0.1 in /usr/local/lib/python2.7/dist-packages (from matplotlib->cleverhans==2.1.0) (2.4.0)\n",
            "Requirement already satisfied: mock; python_version == \"2.7\" in /usr/local/lib/python2.7/dist-packages (from mnist~=0.2->cleverhans==2.1.0) (2.0.0)\n",
            "Requirement already satisfied: setuptools in /usr/local/lib/python2.7/dist-packages (from kiwisolver>=1.0.1->matplotlib->cleverhans==2.1.0) (41.4.0)\n",
            "Requirement already satisfied: funcsigs>=1; python_version < \"3.3\" in /usr/local/lib/python2.7/dist-packages (from mock; python_version == \"2.7\"->mnist~=0.2->cleverhans==2.1.0) (1.0.2)\n",
            "Requirement already satisfied: pbr>=0.11 in /usr/local/lib/python2.7/dist-packages (from mock; python_version == \"2.7\"->mnist~=0.2->cleverhans==2.1.0) (5.4.0)\n",
            "Building wheels for collected packages: cleverhans\n",
            "  Building wheel for cleverhans (setup.py) ... \u001b[?25l\u001b[?25hdone\n",
            "  Created wheel for cleverhans: filename=cleverhans-2.1.0-cp27-none-any.whl size=74866 sha256=a7f35073b1a55423e7ae81c89116bee8799118cbba8439ca132b82bf8c35b855\n",
            "  Stored in directory: /root/.cache/pip/wheels/5e/d5/ae/5bf57b9265bffd5783c4462a9a7c1c5fd0ebe51db83ff5f586\n",
            "Successfully built cleverhans\n",
            "Installing collected packages: pycodestyle, mnist, cleverhans\n",
            "Successfully installed cleverhans-2.1.0 mnist-0.2.2 pycodestyle-2.5.0\n"
          ],
          "name": "stdout"
        }
      ]
    },
    {
      "cell_type": "code",
      "metadata": {
        "id": "mVKiKyxvrDio",
        "colab_type": "code",
        "colab": {}
      },
      "source": [
        "#Import necessary packages\n",
        "from keras.datasets import mnist\n",
        "from keras import Sequential\n",
        "from keras.layers import Dense, BatchNormalization\n",
        "from keras import backend\n",
        "import keras\n",
        "import tensorflow as tf\n",
        "import numpy as np\n",
        "import matplotlib.pyplot as plt\n",
        "from sklearn.decomposition import PCA\n",
        "from cleverhans.utils_keras import KerasModelWrapper\n",
        "from cleverhans.attacks import FastGradientMethod, MadryEtAl, DeepFool, CarliniWagnerL2"
      ],
      "execution_count": 0,
      "outputs": []
    },
    {
      "cell_type": "markdown",
      "metadata": {
        "id": "AR7lUPK3rL3d",
        "colab_type": "text"
      },
      "source": [
        "#Part 1: Training a target classifier"
      ]
    },
    {
      "cell_type": "code",
      "metadata": {
        "id": "dRvltpU9rMZp",
        "colab_type": "code",
        "colab": {
          "base_uri": "https://localhost:8080/",
          "height": 70
        },
        "outputId": "ca99edbd-244d-4176-9798-f5e76e10a390"
      },
      "source": [
        "#Load MNIST data and normalize to [-1, 1]\n",
        "(data_train, labels_train), (data_test, labels_test) = mnist.load_data()\n",
        "data_train = 2*(data_train/255.0 - 0.5)\n",
        "data_test = 2*(data_test/255.0 - 0.5)\n",
        "labels_train = keras.utils.np_utils.to_categorical(labels_train, num_classes=10)\n",
        "labels_test = keras.utils.np_utils.to_categorical(labels_test, num_classes=10)\n",
        "#Reshape training and testing data into 784-dimensional vectors\n",
        "try:\n",
        "  d = data_train.shape[1]\n",
        "  data_train = data_train.reshape((data_train.shape[0], \n",
        "                                  d*d))\n",
        "  data_test = data_test.reshape((data_test.shape[0], \n",
        "                               d*d))\n",
        "except:\n",
        "  print(\"training data shape: \", data_train.shape)\n",
        "  print(\"testing data shape: \", data_test.shape)\n",
        "  print(\"Data was reshaped already\")\n",
        "\n",
        "nClasses = 10"
      ],
      "execution_count": 4,
      "outputs": [
        {
          "output_type": "stream",
          "text": [
            "Downloading data from https://s3.amazonaws.com/img-datasets/mnist.npz\n",
            "11493376/11490434 [==============================] - 2s 0us/step\n",
            "11501568/11490434 [==============================] - 2s 0us/step\n"
          ],
          "name": "stdout"
        }
      ]
    },
    {
      "cell_type": "markdown",
      "metadata": {
        "id": "Ar-bjc06PH9y",
        "colab_type": "text"
      },
      "source": [
        "##CNN Model"
      ]
    },
    {
      "cell_type": "code",
      "metadata": {
        "id": "RzW6ANl3PJg_",
        "colab_type": "code",
        "colab": {}
      },
      "source": [
        "def nnModel():\n",
        "  model = Sequential()\n",
        "  model.add(Dense(100,input_dim=data_test.shape[1],\n",
        "                activation=\"relu\") )\n",
        "  model.add(BatchNormalization(axis=-1,momentum=0.99))\n",
        "  model.add(Dense(100, activation=\"relu\", \n",
        "                  kernel_initializer = \"uniform\") )\n",
        "  model.add(BatchNormalization(axis=-1,momentum=0.99))\n",
        "  model.add(Dense(nClasses, activation = 'softmax'))  \n",
        "  return model"
      ],
      "execution_count": 0,
      "outputs": []
    },
    {
      "cell_type": "code",
      "metadata": {
        "id": "hb_NyNzAQBY2",
        "colab_type": "code",
        "colab": {
          "base_uri": "https://localhost:8080/",
          "height": 1000
        },
        "outputId": "bade285d-f678-4179-ed6d-cecc014cedd5"
      },
      "source": [
        "# Training model\n",
        "model = nnModel()\n",
        "model.compile(loss='categorical_crossentropy',\n",
        "                  optimizer = \"adam\", \n",
        "                  metrics = ['accuracy'])\n",
        "print(model.summary())\n",
        "\n",
        "model_metaData = model.fit(data_train, labels_train,\n",
        "                           validation_data = (data_test, labels_test), \n",
        "                           epochs = 50, batch_size = 256, \n",
        "                           shuffle = True, verbose=True)"
      ],
      "execution_count": 9,
      "outputs": [
        {
          "output_type": "stream",
          "text": [
            "_________________________________________________________________\n",
            "Layer (type)                 Output Shape              Param #   \n",
            "=================================================================\n",
            "dense_7 (Dense)              (None, 100)               78500     \n",
            "_________________________________________________________________\n",
            "batch_normalization_5 (Batch (None, 100)               400       \n",
            "_________________________________________________________________\n",
            "dense_8 (Dense)              (None, 100)               10100     \n",
            "_________________________________________________________________\n",
            "batch_normalization_6 (Batch (None, 100)               400       \n",
            "_________________________________________________________________\n",
            "dense_9 (Dense)              (None, 10)                1010      \n",
            "=================================================================\n",
            "Total params: 90,410\n",
            "Trainable params: 90,010\n",
            "Non-trainable params: 400\n",
            "_________________________________________________________________\n",
            "None\n",
            "Train on 60000 samples, validate on 10000 samples\n",
            "Epoch 1/50\n",
            "60000/60000 [==============================] - 3s 58us/step - loss: 0.3061 - acc: 0.9103 - val_loss: 0.2069 - val_acc: 0.9348\n",
            "Epoch 2/50\n",
            "60000/60000 [==============================] - 3s 42us/step - loss: 0.1346 - acc: 0.9610 - val_loss: 0.2972 - val_acc: 0.8964\n",
            "Epoch 3/50\n",
            "60000/60000 [==============================] - 2s 41us/step - loss: 0.0983 - acc: 0.9717 - val_loss: 0.1181 - val_acc: 0.9645\n",
            "Epoch 4/50\n",
            "60000/60000 [==============================] - 2s 40us/step - loss: 0.0786 - acc: 0.9771 - val_loss: 0.1284 - val_acc: 0.9604\n",
            "Epoch 5/50\n",
            "60000/60000 [==============================] - 3s 42us/step - loss: 0.0658 - acc: 0.9804 - val_loss: 0.1390 - val_acc: 0.9564\n",
            "Epoch 6/50\n",
            "60000/60000 [==============================] - 3s 43us/step - loss: 0.0563 - acc: 0.9832 - val_loss: 0.1418 - val_acc: 0.9561\n",
            "Epoch 7/50\n",
            "60000/60000 [==============================] - 3s 44us/step - loss: 0.0487 - acc: 0.9859 - val_loss: 0.1106 - val_acc: 0.9671\n",
            "Epoch 8/50\n",
            "60000/60000 [==============================] - 3s 44us/step - loss: 0.0427 - acc: 0.9875 - val_loss: 0.0950 - val_acc: 0.9697\n",
            "Epoch 9/50\n",
            "60000/60000 [==============================] - 2s 41us/step - loss: 0.0378 - acc: 0.9886 - val_loss: 0.1141 - val_acc: 0.9652\n",
            "Epoch 10/50\n",
            "60000/60000 [==============================] - 3s 44us/step - loss: 0.0336 - acc: 0.9898 - val_loss: 0.1001 - val_acc: 0.9700\n",
            "Epoch 11/50\n",
            "60000/60000 [==============================] - 3s 44us/step - loss: 0.0297 - acc: 0.9914 - val_loss: 0.1086 - val_acc: 0.9681\n",
            "Epoch 12/50\n",
            "60000/60000 [==============================] - 2s 38us/step - loss: 0.0269 - acc: 0.9917 - val_loss: 0.1168 - val_acc: 0.9650\n",
            "Epoch 13/50\n",
            "60000/60000 [==============================] - 3s 43us/step - loss: 0.0242 - acc: 0.9927 - val_loss: 0.1136 - val_acc: 0.9658\n",
            "Epoch 14/50\n",
            "60000/60000 [==============================] - 2s 40us/step - loss: 0.0209 - acc: 0.9935 - val_loss: 0.1196 - val_acc: 0.9667\n",
            "Epoch 15/50\n",
            "60000/60000 [==============================] - 2s 40us/step - loss: 0.0195 - acc: 0.9943 - val_loss: 0.1297 - val_acc: 0.9644\n",
            "Epoch 16/50\n",
            "60000/60000 [==============================] - 3s 44us/step - loss: 0.0174 - acc: 0.9949 - val_loss: 0.0964 - val_acc: 0.9725\n",
            "Epoch 17/50\n",
            "60000/60000 [==============================] - 2s 41us/step - loss: 0.0182 - acc: 0.9943 - val_loss: 0.1311 - val_acc: 0.9640\n",
            "Epoch 18/50\n",
            "60000/60000 [==============================] - 2s 38us/step - loss: 0.0150 - acc: 0.9957 - val_loss: 0.1068 - val_acc: 0.9696\n",
            "Epoch 19/50\n",
            "60000/60000 [==============================] - 3s 44us/step - loss: 0.0134 - acc: 0.9960 - val_loss: 0.1408 - val_acc: 0.9605\n",
            "Epoch 20/50\n",
            "60000/60000 [==============================] - 2s 40us/step - loss: 0.0150 - acc: 0.9952 - val_loss: 0.1570 - val_acc: 0.9589\n",
            "Epoch 21/50\n",
            "60000/60000 [==============================] - 3s 45us/step - loss: 0.0150 - acc: 0.9952 - val_loss: 0.1621 - val_acc: 0.9593\n",
            "Epoch 22/50\n",
            "60000/60000 [==============================] - 2s 37us/step - loss: 0.0126 - acc: 0.9963 - val_loss: 0.1255 - val_acc: 0.9678\n",
            "Epoch 23/50\n",
            "60000/60000 [==============================] - 3s 44us/step - loss: 0.0128 - acc: 0.9960 - val_loss: 0.1457 - val_acc: 0.9621\n",
            "Epoch 24/50\n",
            "60000/60000 [==============================] - 2s 41us/step - loss: 0.0103 - acc: 0.9972 - val_loss: 0.1414 - val_acc: 0.9650\n",
            "Epoch 25/50\n",
            "60000/60000 [==============================] - 2s 41us/step - loss: 0.0111 - acc: 0.9966 - val_loss: 0.1574 - val_acc: 0.9638\n",
            "Epoch 26/50\n",
            "60000/60000 [==============================] - 2s 36us/step - loss: 0.0118 - acc: 0.9963 - val_loss: 0.1490 - val_acc: 0.9651\n",
            "Epoch 27/50\n",
            "60000/60000 [==============================] - 3s 42us/step - loss: 0.0099 - acc: 0.9967 - val_loss: 0.4005 - val_acc: 0.9111\n",
            "Epoch 28/50\n",
            "60000/60000 [==============================] - 2s 41us/step - loss: 0.0112 - acc: 0.9966 - val_loss: 0.1622 - val_acc: 0.9609\n",
            "Epoch 29/50\n",
            "60000/60000 [==============================] - 3s 43us/step - loss: 0.0099 - acc: 0.9970 - val_loss: 0.1104 - val_acc: 0.9727\n",
            "Epoch 30/50\n",
            "60000/60000 [==============================] - 2s 38us/step - loss: 0.0094 - acc: 0.9970 - val_loss: 0.1070 - val_acc: 0.9731\n",
            "Epoch 31/50\n",
            "60000/60000 [==============================] - 2s 40us/step - loss: 0.0071 - acc: 0.9977 - val_loss: 0.1147 - val_acc: 0.9716\n",
            "Epoch 32/50\n",
            "60000/60000 [==============================] - 3s 42us/step - loss: 0.0069 - acc: 0.9980 - val_loss: 0.0965 - val_acc: 0.9772\n",
            "Epoch 33/50\n",
            "60000/60000 [==============================] - 2s 39us/step - loss: 0.0067 - acc: 0.9982 - val_loss: 0.1010 - val_acc: 0.9775\n",
            "Epoch 34/50\n",
            "60000/60000 [==============================] - 2s 34us/step - loss: 0.0093 - acc: 0.9970 - val_loss: 0.1546 - val_acc: 0.9632\n",
            "Epoch 35/50\n",
            "60000/60000 [==============================] - 3s 42us/step - loss: 0.0086 - acc: 0.9973 - val_loss: 0.2903 - val_acc: 0.9338\n",
            "Epoch 36/50\n",
            "60000/60000 [==============================] - 3s 42us/step - loss: 0.0096 - acc: 0.9969 - val_loss: 0.1849 - val_acc: 0.9602\n",
            "Epoch 37/50\n",
            "60000/60000 [==============================] - 3s 45us/step - loss: 0.0065 - acc: 0.9983 - val_loss: 0.1116 - val_acc: 0.9730\n",
            "Epoch 38/50\n",
            "60000/60000 [==============================] - 2s 36us/step - loss: 0.0045 - acc: 0.9988 - val_loss: 0.1191 - val_acc: 0.9726\n",
            "Epoch 39/50\n",
            "60000/60000 [==============================] - 3s 45us/step - loss: 0.0054 - acc: 0.9984 - val_loss: 0.1111 - val_acc: 0.9737\n",
            "Epoch 40/50\n",
            "60000/60000 [==============================] - 3s 43us/step - loss: 0.0066 - acc: 0.9980 - val_loss: 0.1146 - val_acc: 0.9724\n",
            "Epoch 41/50\n",
            "60000/60000 [==============================] - 3s 42us/step - loss: 0.0083 - acc: 0.9974 - val_loss: 0.1748 - val_acc: 0.9633\n",
            "Epoch 42/50\n",
            "60000/60000 [==============================] - 3s 44us/step - loss: 0.0103 - acc: 0.9965 - val_loss: 0.1112 - val_acc: 0.9746\n",
            "Epoch 43/50\n",
            "60000/60000 [==============================] - 2s 41us/step - loss: 0.0070 - acc: 0.9975 - val_loss: 0.1072 - val_acc: 0.9754\n",
            "Epoch 44/50\n",
            "60000/60000 [==============================] - 3s 43us/step - loss: 0.0035 - acc: 0.9991 - val_loss: 0.0933 - val_acc: 0.9796\n",
            "Epoch 45/50\n",
            "60000/60000 [==============================] - 2s 40us/step - loss: 0.0046 - acc: 0.9986 - val_loss: 0.1352 - val_acc: 0.9685\n",
            "Epoch 46/50\n",
            "60000/60000 [==============================] - 2s 39us/step - loss: 0.0042 - acc: 0.9989 - val_loss: 0.0929 - val_acc: 0.9800\n",
            "Epoch 47/50\n",
            "60000/60000 [==============================] - 2s 41us/step - loss: 0.0036 - acc: 0.9990 - val_loss: 0.1138 - val_acc: 0.9729\n",
            "Epoch 48/50\n",
            "60000/60000 [==============================] - 2s 42us/step - loss: 0.0107 - acc: 0.9965 - val_loss: 0.1299 - val_acc: 0.9698\n",
            "Epoch 49/50\n",
            "60000/60000 [==============================] - 2s 41us/step - loss: 0.0089 - acc: 0.9971 - val_loss: 0.1379 - val_acc: 0.9696\n",
            "Epoch 50/50\n",
            "60000/60000 [==============================] - 2s 40us/step - loss: 0.0061 - acc: 0.9979 - val_loss: 0.1191 - val_acc: 0.9737\n",
            "10000/10000 [==============================] - 0s 32us/step\n",
            "Accuracy: 97.3700%\n"
          ],
          "name": "stdout"
        }
      ]
    },
    {
      "cell_type": "code",
      "metadata": {
        "id": "uOsXwFOvrs14",
        "colab_type": "code",
        "colab": {
          "base_uri": "https://localhost:8080/",
          "height": 294
        },
        "outputId": "403c9170-fd2c-4368-c516-86d30b9d271d"
      },
      "source": [
        "#Plot loss vs epoch\n",
        "plt.plot(model_metaData.history['acc'])\n",
        "plt.plot(model_metaData.history['val_acc'])\n",
        "plt.title('CNN Accuracy v/s Epoch')\n",
        "plt.xlabel('# Epoch')\n",
        "plt.ylabel('Accuracy')\n",
        "plt.legend(['train', 'test'], loc = 'lower right')\n",
        "plt.show()"
      ],
      "execution_count": 10,
      "outputs": [
        {
          "output_type": "display_data",
          "data": {
            "image/png": "[encoded data removed]",
            "text/plain": [
              "<Figure size 432x288 with 1 Axes>"
            ]
          },
          "metadata": {
            "tags": []
          }
        }
      ]
    },
    {
      "cell_type": "code",
      "metadata": {
        "id": "4C4mOVvSr4KP",
        "colab_type": "code",
        "colab": {
          "base_uri": "https://localhost:8080/",
          "height": 294
        },
        "outputId": "037c021b-5554-4539-a6b5-8ee222f1945b"
      },
      "source": [
        "#Plot accuracy vs epoch\n",
        "plt.plot(model_metaData.history['loss'])\n",
        "plt.plot(model_metaData.history['val_loss'])\n",
        "plt.title('CNN Loss v/s Epoch')\n",
        "plt.xlabel('# Epoch')\n",
        "plt.ylabel('Loss')\n",
        "plt.legend(['train', 'test'], loc = 'upper right')\n",
        "plt.show()"
      ],
      "execution_count": 11,
      "outputs": [
        {
          "output_type": "display_data",
          "data": {
            "image/png": "[encoded data removed]",
            "text/plain": [
              "<Figure size 432x288 with 1 Axes>"
            ]
          },
          "metadata": {
            "tags": []
          }
        }
      ]
    },
    {
      "cell_type": "code",
      "metadata": {
        "id": "gr53zDpTr5wO",
        "colab_type": "code",
        "colab": {
          "base_uri": "https://localhost:8080/",
          "height": 52
        },
        "outputId": "190e68fe-19aa-4092-8aab-c8c249a1e3b7"
      },
      "source": [
        "#Print accuracy of classifier on MNIST testing data\n",
        "scores = model.evaluate(data_test, labels_test)\n",
        "print(\"Accuracy: %0.4f%%\" %(scores[1]*100) )"
      ],
      "execution_count": 12,
      "outputs": [
        {
          "output_type": "stream",
          "text": [
            "10000/10000 [==============================] - 0s 33us/step\n",
            "Accuracy: 97.3700%\n"
          ],
          "name": "stdout"
        }
      ]
    },
    {
      "cell_type": "code",
      "metadata": {
        "id": "YEcrqpjas3Xh",
        "colab_type": "code",
        "colab": {}
      },
      "source": [
        "#Get TensorFlow Session to pass into Cleverhans modules\n",
        "sess = backend.get_session()\n",
        "\n",
        "#Create wrapper for classifier model so that it can be passed into Cleverhans modules\n",
        "wrap = KerasModelWrapper(model)"
      ],
      "execution_count": 0,
      "outputs": []
    },
    {
      "cell_type": "markdown",
      "metadata": {
        "id": "8_Ehc7tas5YS",
        "colab_type": "text"
      },
      "source": [
        "#Part 2: The Fast Gradient Method (FGM)"
      ]
    },
    {
      "cell_type": "code",
      "metadata": {
        "id": "GA5T9mkws9vJ",
        "colab_type": "code",
        "colab": {
          "base_uri": "https://localhost:8080/",
          "height": 374
        },
        "outputId": "99156bec-ee2a-4a39-9052-c1bde7e1fc84"
      },
      "source": [
        "#Implementing the FGSM attack\n",
        "\n",
        "#FGM Instance on trained classifier from Part 1\n",
        "FGM = FastGradientMethod(wrap, sess = sess)\n",
        "\n",
        "#Attack parameters\n",
        "FGM_params = {'eps': 0.25,\n",
        "              'clip_min': 0.0,\n",
        "              'clip_max': 1.0}\n",
        "#Generate adversarial data\n",
        "FGM_attack_data = FGM.generate_np(data_test, **FGM_params)\n",
        "\n",
        "#Evaluate accuracy on target classifier \n",
        "FGM_adv_scores = model.evaluate(FGM_attack_data, labels_test)\n",
        "print(\"Accuracy when subject to FGM Adversarial Attacks: %0.4f%%\" %(FGM_adv_scores[1]*100) )"
      ],
      "execution_count": 20,
      "outputs": [
        {
          "output_type": "stream",
          "text": [
            "W1105 21:03:38.051784 140163934427008 deprecation.py:506] From /usr/local/lib/python2.7/dist-packages/cleverhans/attacks.py:216: calling reduce_max_v1 (from tensorflow.python.ops.math_ops) with keep_dims is deprecated and will be removed in a future version.\n",
            "Instructions for updating:\n",
            "keep_dims is deprecated, use keepdims instead\n",
            "W1105 21:03:38.056263 140163934427008 deprecation.py:323] From /usr/local/lib/python2.7/dist-packages/cleverhans/attacks.py:218: to_float (from tensorflow.python.ops.math_ops) is deprecated and will be removed in a future version.\n",
            "Instructions for updating:\n",
            "Use `tf.cast` instead.\n",
            "W1105 21:03:38.062549 140163934427008 deprecation.py:506] From /usr/local/lib/python2.7/dist-packages/cleverhans/attacks_tf.py:62: calling reduce_sum_v1 (from tensorflow.python.ops.math_ops) with keep_dims is deprecated and will be removed in a future version.\n",
            "Instructions for updating:\n",
            "keep_dims is deprecated, use keepdims instead\n",
            "W1105 21:03:38.069403 140163934427008 deprecation.py:323] From /usr/local/lib/python2.7/dist-packages/cleverhans/utils_tf.py:37: softmax_cross_entropy_with_logits (from tensorflow.python.ops.nn_ops) is deprecated and will be removed in a future version.\n",
            "Instructions for updating:\n",
            "\n",
            "Future major versions of TensorFlow will allow gradients to flow\n",
            "into the labels input on backprop by default.\n",
            "\n",
            "See `tf.nn.softmax_cross_entropy_with_logits_v2`.\n",
            "\n"
          ],
          "name": "stderr"
        },
        {
          "output_type": "stream",
          "text": [
            "10000/10000 [==============================] - 1s 54us/step\n",
            "Accuracy when subject to FGM Adversarial Attacks: 10.9500%\n"
          ],
          "name": "stdout"
        }
      ]
    },
    {
      "cell_type": "code",
      "metadata": {
        "id": "vHsDH5lWhCYm",
        "colab_type": "code",
        "colab": {
          "base_uri": "https://localhost:8080/",
          "height": 34
        },
        "outputId": "1a6f01bd-b8da-4903-ffa7-30f06572cca5"
      },
      "source": [
        ""
      ],
      "execution_count": 44,
      "outputs": [
        {
          "output_type": "execute_result",
          "data": {
            "text/plain": [
              "(10000, 784)"
            ]
          },
          "metadata": {
            "tags": []
          },
          "execution_count": 44
        }
      ]
    },
    {
      "cell_type": "code",
      "metadata": {
        "id": "wE_rdYIrDeNZ",
        "colab_type": "code",
        "colab": {
          "base_uri": "https://localhost:8080/",
          "height": 258
        },
        "outputId": "62936967-bc32-48ad-aa90-d34d53ca978e"
      },
      "source": [
        "def tenPlotter(test, attack, str1):\n",
        "  random_ind = np.random.choice(attack.shape[0], 10)\n",
        "  fig, axs = plt.subplots(2, 10)\n",
        "  for i in range(10):\n",
        "    axs[0,i].imshow((test[random_ind[i]].reshape(28, 28)), cmap='gray')\n",
        "    axs[0,i].axis('off')\n",
        "    axs[1,i].imshow((attack[random_ind[i]].reshape(28, 28)), cmap='gray')\n",
        "    axs[1,i].axis('off')\n",
        "  fig.suptitle('Original images [above] and '+str1+' Attack samples [below]', fontsize=18)\n",
        "\n",
        "#Show ten original samples and their corresponding adversarial samples\n",
        "tenPlotter(data_test, FGM_attack_data, 'FGM')"
      ],
      "execution_count": 68,
      "outputs": [
        {
          "output_type": "display_data",
          "data": {
            "image/png": "[encoded data removed]",
            "text/plain": [
              "<Figure size 432x288 with 20 Axes>"
            ]
          },
          "metadata": {
            "tags": []
          }
        }
      ]
    },
    {
      "cell_type": "code",
      "metadata": {
        "id": "qurgywiaJe-I",
        "colab_type": "code",
        "colab": {
          "base_uri": "https://localhost:8080/",
          "height": 1000
        },
        "outputId": "7f78bf15-3fb4-4bb1-b660-2364d129ffeb"
      },
      "source": [
        "#Implementing Detection via Autoencoders\n",
        "\n",
        "def autoencoder():\n",
        "    ae = Sequential()\n",
        "    ae.add(Dense(400, activation=None, kernel_initializer=\"normal\", input_dim=784))\n",
        "    ae.add(Dense(200, activation=None, kernel_initializer='normal'))\n",
        "    ae.add(Dense(100, activation=None, kernel_initializer='normal'))\n",
        "    ae.add(Dense(200, activation=None, kernel_initializer='normal'))\n",
        "    ae.add(Dense(400, activation=None, kernel_initializer='normal'))\n",
        "    ae.add(Dense(784, activation='sigmoid', kernel_initializer='normal'))\n",
        "    return ae\n",
        "\n",
        "#Creatin the autoencoder \n",
        "auto = autoencoder()\n",
        "auto.compile(loss = \"mean_squared_error\",\n",
        "                   optimizer = \"adam\" )\n",
        "#Training parameters\n",
        "num_epochs = 50\n",
        "batch_size = 256\n",
        "# Training the autoencoder using the mean squared error loss and adam optimizer\n",
        "auto_model_history = auto.fit(data_train, data_train,\n",
        "                                    validation_data = (data_train,data_train),\n",
        "                                    epochs = num_epochs,\n",
        "                                    batch_size = batch_size,\n",
        "                                    shuffle = True)"
      ],
      "execution_count": 43,
      "outputs": [
        {
          "output_type": "stream",
          "text": [
            "W1105 21:21:34.683197 140163934427008 module_wrapper.py:139] From /usr/local/lib/python2.7/dist-packages/keras/backend/tensorflow_backend.py:4115: The name tf.random_normal is deprecated. Please use tf.random.normal instead.\n",
            "\n"
          ],
          "name": "stderr"
        },
        {
          "output_type": "stream",
          "text": [
            "Train on 60000 samples, validate on 60000 samples\n",
            "Epoch 1/50\n",
            "60000/60000 [==============================] - 12s 197us/step - loss: 0.9411 - val_loss: 0.9266\n",
            "Epoch 2/50\n",
            "60000/60000 [==============================] - 11s 180us/step - loss: 0.9266 - val_loss: 0.9266\n",
            "Epoch 3/50\n",
            "60000/60000 [==============================] - 11s 186us/step - loss: 0.9266 - val_loss: 0.9266\n",
            "Epoch 4/50\n",
            "60000/60000 [==============================] - 11s 184us/step - loss: 0.9266 - val_loss: 0.9266\n",
            "Epoch 5/50\n",
            "60000/60000 [==============================] - 11s 183us/step - loss: 0.9266 - val_loss: 0.9266\n",
            "Epoch 6/50\n",
            "60000/60000 [==============================] - 11s 181us/step - loss: 0.9266 - val_loss: 0.9266\n",
            "Epoch 7/50\n",
            "60000/60000 [==============================] - 11s 184us/step - loss: 0.9266 - val_loss: 0.9266\n",
            "Epoch 8/50\n",
            "60000/60000 [==============================] - 11s 184us/step - loss: 0.9266 - val_loss: 0.9266\n",
            "Epoch 9/50\n",
            "60000/60000 [==============================] - 11s 183us/step - loss: 0.9266 - val_loss: 0.9266\n",
            "Epoch 10/50\n",
            "60000/60000 [==============================] - 11s 184us/step - loss: 0.9266 - val_loss: 0.9266\n",
            "Epoch 11/50\n",
            "60000/60000 [==============================] - 11s 182us/step - loss: 0.9266 - val_loss: 0.9266\n",
            "Epoch 12/50\n",
            "60000/60000 [==============================] - 11s 181us/step - loss: 0.9266 - val_loss: 0.9266\n",
            "Epoch 13/50\n",
            "60000/60000 [==============================] - 11s 182us/step - loss: 0.9266 - val_loss: 0.9266\n",
            "Epoch 14/50\n",
            "60000/60000 [==============================] - 13s 213us/step - loss: 0.9266 - val_loss: 0.9266\n",
            "Epoch 15/50\n",
            "60000/60000 [==============================] - 13s 215us/step - loss: 0.9266 - val_loss: 0.9266\n",
            "Epoch 16/50\n",
            "60000/60000 [==============================] - 13s 225us/step - loss: 0.9266 - val_loss: 0.9266\n",
            "Epoch 17/50\n",
            "60000/60000 [==============================] - 13s 221us/step - loss: 0.9266 - val_loss: 0.9266\n",
            "Epoch 18/50\n",
            "60000/60000 [==============================] - 13s 216us/step - loss: 0.9266 - val_loss: 0.9266\n",
            "Epoch 19/50\n",
            "60000/60000 [==============================] - 11s 179us/step - loss: 0.9266 - val_loss: 0.9266\n",
            "Epoch 20/50\n",
            "60000/60000 [==============================] - 11s 183us/step - loss: 0.9266 - val_loss: 0.9266\n",
            "Epoch 21/50\n",
            "60000/60000 [==============================] - 11s 186us/step - loss: 0.9266 - val_loss: 0.9266\n",
            "Epoch 22/50\n",
            "60000/60000 [==============================] - 11s 187us/step - loss: 0.9266 - val_loss: 0.9266\n",
            "Epoch 23/50\n",
            "60000/60000 [==============================] - 11s 181us/step - loss: 0.9266 - val_loss: 0.9266\n",
            "Epoch 24/50\n",
            "60000/60000 [==============================] - 11s 183us/step - loss: 0.9266 - val_loss: 0.9266\n",
            "Epoch 25/50\n",
            "60000/60000 [==============================] - 11s 182us/step - loss: 0.9266 - val_loss: 0.9266\n",
            "Epoch 26/50\n",
            "60000/60000 [==============================] - 11s 181us/step - loss: 0.9266 - val_loss: 0.9266\n",
            "Epoch 27/50\n",
            "60000/60000 [==============================] - 11s 183us/step - loss: 0.9266 - val_loss: 0.9266\n",
            "Epoch 28/50\n",
            "60000/60000 [==============================] - 11s 181us/step - loss: 0.9266 - val_loss: 0.9266\n",
            "Epoch 29/50\n",
            "60000/60000 [==============================] - 11s 184us/step - loss: 0.9266 - val_loss: 0.9266\n",
            "Epoch 30/50\n",
            "60000/60000 [==============================] - 11s 180us/step - loss: 0.9266 - val_loss: 0.9266\n",
            "Epoch 31/50\n",
            "60000/60000 [==============================] - 11s 182us/step - loss: 0.9266 - val_loss: 0.9266\n",
            "Epoch 32/50\n",
            "60000/60000 [==============================] - 11s 181us/step - loss: 0.9266 - val_loss: 0.9266\n",
            "Epoch 33/50\n",
            "60000/60000 [==============================] - 11s 180us/step - loss: 0.9266 - val_loss: 0.9266\n",
            "Epoch 34/50\n",
            "60000/60000 [==============================] - 11s 183us/step - loss: 0.9266 - val_loss: 0.9266\n",
            "Epoch 35/50\n",
            "60000/60000 [==============================] - 11s 182us/step - loss: 0.9266 - val_loss: 0.9266\n",
            "Epoch 36/50\n",
            "60000/60000 [==============================] - 11s 184us/step - loss: 0.9266 - val_loss: 0.9266\n",
            "Epoch 37/50\n",
            "60000/60000 [==============================] - 11s 184us/step - loss: 0.9266 - val_loss: 0.9266\n",
            "Epoch 38/50\n",
            "60000/60000 [==============================] - 11s 181us/step - loss: 0.9266 - val_loss: 0.9266\n",
            "Epoch 39/50\n",
            "60000/60000 [==============================] - 11s 183us/step - loss: 0.9266 - val_loss: 0.9266\n",
            "Epoch 40/50\n",
            "60000/60000 [==============================] - 11s 180us/step - loss: 0.9266 - val_loss: 0.9266\n",
            "Epoch 41/50\n",
            "60000/60000 [==============================] - 11s 182us/step - loss: 0.9266 - val_loss: 0.9266\n",
            "Epoch 42/50\n",
            "60000/60000 [==============================] - 11s 184us/step - loss: 0.9266 - val_loss: 0.9266\n",
            "Epoch 43/50\n",
            "60000/60000 [==============================] - 11s 182us/step - loss: 0.9266 - val_loss: 0.9266\n",
            "Epoch 44/50\n",
            "60000/60000 [==============================] - 11s 180us/step - loss: 0.9266 - val_loss: 0.9266\n",
            "Epoch 45/50\n",
            "60000/60000 [==============================] - 11s 181us/step - loss: 0.9266 - val_loss: 0.9266\n",
            "Epoch 46/50\n",
            "60000/60000 [==============================] - 11s 184us/step - loss: 0.9266 - val_loss: 0.9266\n",
            "Epoch 47/50\n",
            "60000/60000 [==============================] - 11s 184us/step - loss: 0.9266 - val_loss: 0.9266\n",
            "Epoch 48/50\n",
            "60000/60000 [==============================] - 11s 186us/step - loss: 0.9266 - val_loss: 0.9266\n",
            "Epoch 49/50\n",
            "60000/60000 [==============================] - 11s 184us/step - loss: 0.9266 - val_loss: 0.9266\n",
            "Epoch 50/50\n",
            "60000/60000 [==============================] - 11s 187us/step - loss: 0.9266 - val_loss: 0.9266\n"
          ],
          "name": "stdout"
        }
      ]
    },
    {
      "cell_type": "code",
      "metadata": {
        "id": "sGVPbCP_JvDo",
        "colab_type": "code",
        "colab": {
          "base_uri": "https://localhost:8080/",
          "height": 34
        },
        "outputId": "76292c58-6021-4cb6-cadb-2b3b141030c3"
      },
      "source": [
        "#Using the autoencoder for detection and to determine a threshold \n",
        "\n",
        "# Create adversarial examples using FGSM on training data\n",
        "adversarial_data = FGM.generate_np(data_train, **FGM_params)\n",
        "# Obtain reconstruction errors on training set and determine a threshold \n",
        "autoencoder_reconstruction = auto.predict(adversarial_data)\n",
        "# Convert error tensor into NumPy array \n",
        "error = keras.losses.mean_absolute_error(adversarial_data, \n",
        "                                         autoencoder_reconstruction)\n",
        "error = error.eval(session=sess)\n",
        "\n",
        "# Determine threshold (based on min in this case) and print it \n",
        "threshold = error.min()\n",
        "print(\"Threshold = \", threshold)\n",
        "\n",
        "# Calculate error of adversarial testing set\n",
        "autoencoder_reconstruction_testing = auto.predict(FGM_attack_data)\n",
        "error_test = keras.losses.mean_absolute_error(FGM_attack_data, \n",
        "                                              autoencoder_reconstruction_testing)\n",
        "error_test = error_test.eval(session=sess)"
      ],
      "execution_count": 58,
      "outputs": [
        {
          "output_type": "stream",
          "text": [
            "('Threshold = ', 0.67955047)\n"
          ],
          "name": "stdout"
        }
      ]
    },
    {
      "cell_type": "code",
      "metadata": {
        "id": "T39gTLLChJsa",
        "colab_type": "code",
        "colab": {
          "base_uri": "https://localhost:8080/",
          "height": 52
        },
        "outputId": "88bb28cd-5a4c-44a5-c1f4-f3fe3316cf2c"
      },
      "source": [
        "# Determine how many examples are above threshold and consider them adversarial\n",
        "# (true positive count)\n",
        "# Hint: Use a 'for' loop to compare each error value to the threshold\n",
        "TPcount = 0\n",
        "for e in error_test:\n",
        "  if e > threshold: TPcount += 1\n",
        "\n",
        "# Print number of true positive samples\n",
        "print(\"True positives: \", TPcount)\n",
        "# Determine false positives on benign testing set\n",
        "FPcount = data_test.shape[0] - TPcount\n",
        "print(\"False positives: \", FPcount)\n",
        "\n",
        "\n",
        "# Determine how many examples are above threshold and consider them adversarial\n",
        "# (false positive count)\n",
        "# Hint: Use a 'for' loop to compare each error value to the threshold\n",
        "#FILL THIS IN \n",
        "    \n",
        "# Print number of false positive samples\n",
        "#FILL THIS IN   "
      ],
      "execution_count": 60,
      "outputs": [
        {
          "output_type": "stream",
          "text": [
            "('True positives: ', 10000)\n",
            "('False positives: ', 0)\n"
          ],
          "name": "stdout"
        }
      ]
    },
    {
      "cell_type": "markdown",
      "metadata": {
        "id": "VE2WG6LnP14d",
        "colab_type": "text"
      },
      "source": [
        "#Part 3: Projected Gradient Descent"
      ]
    },
    {
      "cell_type": "code",
      "metadata": {
        "id": "iEkYKPN-P4Sj",
        "colab_type": "code",
        "colab": {
          "base_uri": "https://localhost:8080/",
          "height": 52
        },
        "outputId": "8ac2cdc5-a0d4-491d-8150-9c8730cd76e0"
      },
      "source": [
        "#Implementing the PGD attack\n",
        "\n",
        "#PGD Instance on trained classifier from Part 1\n",
        "PGD = MadryEtAl(wrap, sess=sess)\n",
        "\n",
        "#Attack parameters\n",
        "PGD_params = {'eps': 0.25,\n",
        "              'eps_iter': 0.01,\n",
        "              'nb_iter': 20,\n",
        "              'clip_min': 0.0,\n",
        "              'clip_max': 1.0}\n",
        "#Generate adversarial data\n",
        "PGD_attack_data = PGD.generate_np(data_test, **PGD_params)\n",
        "\n",
        "#Evaluate accuracy on target classifier \n",
        "PGD_adv_scores = model.evaluate(PGD_attack_data, labels_test)\n",
        "print(\"Accuracy when subject to FGM Adversarial Attacks: %0.4f%%\" %(PGD_adv_scores[1]*100) )"
      ],
      "execution_count": 63,
      "outputs": [
        {
          "output_type": "stream",
          "text": [
            "10000/10000 [==============================] - 2s 201us/step\n",
            "Accuracy when subject to FGM Adversarial Attacks: 10.6600%\n"
          ],
          "name": "stdout"
        }
      ]
    },
    {
      "cell_type": "code",
      "metadata": {
        "id": "urEHSPQISer1",
        "colab_type": "code",
        "colab": {
          "base_uri": "https://localhost:8080/",
          "height": 258
        },
        "outputId": "20e33d95-4124-46e5-935b-b569577b165d"
      },
      "source": [
        "#Show ten original samples and their corresponding adversarial samples\n",
        "tenPlotter(data_test, PGD_attack_data, 'PGD')"
      ],
      "execution_count": 69,
      "outputs": [
        {
          "output_type": "display_data",
          "data": {
            "image/png": "[encoded data removed]",
            "text/plain": [
              "<Figure size 432x288 with 20 Axes>"
            ]
          },
          "metadata": {
            "tags": []
          }
        }
      ]
    },
    {
      "cell_type": "code",
      "metadata": {
        "id": "gTygGikdUWU8",
        "colab_type": "code",
        "colab": {}
      },
      "source": [
        "#Implementing the adversarial training defense\n",
        "#FILL THIS IN"
      ],
      "execution_count": 0,
      "outputs": []
    },
    {
      "cell_type": "code",
      "metadata": {
        "id": "i6dMEXGBUlci",
        "colab_type": "code",
        "colab": {}
      },
      "source": [
        "#Using the defense to evaluate the accuracy of the perturbed data\n",
        "#FILL THIS IN "
      ],
      "execution_count": 0,
      "outputs": []
    },
    {
      "cell_type": "markdown",
      "metadata": {
        "id": "MqIEiMdar_5q",
        "colab_type": "text"
      },
      "source": [
        "#Part 4: Carlini and Wagner Attack"
      ]
    },
    {
      "cell_type": "code",
      "metadata": {
        "id": "oyyNb-v5sCY6",
        "colab_type": "code",
        "colab": {
          "base_uri": "https://localhost:8080/",
          "height": 338
        },
        "outputId": "a22c6f79-a06f-468c-e6f3-79ab22223668"
      },
      "source": [
        "#Implementing the CW attack\n",
        "\n",
        "#CW Instance on trained classifier from Part 1\n",
        "CW = CarliniWagnerL2(wrap, sess = sess)\n",
        "\n",
        "#Attack parameters\n",
        "CW_params = {'binary_search_steps': 1,\n",
        "             'y': None,\n",
        "             'batch_size': 16,\n",
        "             'learning_rate': 1.25,\n",
        "             'initial_const': 10,\n",
        "             'clip_min': 0.0,\n",
        "             'clip_max': 1.0}\n",
        "\n",
        "#Generate adversarial data\n",
        "CW_attack_data = CW.generate_np(data_test, **CW_params)\n",
        "\n",
        "#Evaluate accuracy on target classifier \n",
        "CW_adv_scores = model.evaluate(CW_attack_data, labels_test)\n",
        "print(\"Accuracy when subject to CW Adversarial Attacks: %0.4f%%\" %(CW_adv_scores[1]*100) )"
      ],
      "execution_count": 74,
      "outputs": [
        {
          "output_type": "stream",
          "text": [
            "W1105 22:40:16.968457 140163934427008 module_wrapper.py:139] From /usr/local/lib/python2.7/dist-packages/cleverhans/attacks_tf.py:725: The name tf.train.AdamOptimizer is deprecated. Please use tf.compat.v1.train.AdamOptimizer instead.\n",
            "\n",
            "W1105 22:40:17.247756 140163934427008 deprecation.py:323] From /usr/local/lib/python2.7/dist-packages/cleverhans/attacks.py:909: py_func (from tensorflow.python.ops.script_ops) is deprecated and will be removed in a future version.\n",
            "Instructions for updating:\n",
            "tf.py_func is deprecated in TF V2. Instead, there are two\n",
            "    options available in V2.\n",
            "    - tf.py_function takes a python function which manipulates tf eager\n",
            "    tensors instead of numpy arrays. It's easy to convert a tf eager tensor to\n",
            "    an ndarray (just call tensor.numpy()) but having access to eager tensors\n",
            "    means `tf.py_function`s can use accelerators such as GPUs as well as\n",
            "    being differentiable using a gradient tape.\n",
            "    - tf.numpy_function maintains the semantics of the deprecated tf.py_func\n",
            "    (it is not differentiable, and manipulates numpy arrays). It drops the\n",
            "    stateful argument making all functions stateful.\n",
            "    \n"
          ],
          "name": "stderr"
        },
        {
          "output_type": "stream",
          "text": [
            "10000/10000 [==============================] - 2s 241us/step\n",
            "Accuracy when subject to CW Adversarial Attacks: 0.3000%\n"
          ],
          "name": "stdout"
        }
      ]
    },
    {
      "cell_type": "code",
      "metadata": {
        "id": "rlEMqrlPurRL",
        "colab_type": "code",
        "colab": {
          "base_uri": "https://localhost:8080/",
          "height": 258
        },
        "outputId": "9999242d-da60-4b74-ad7e-3408c0a8a452"
      },
      "source": [
        "#Show ten original samples and their corresponding adversarial samples\n",
        "tenPlotter(data_test, CW_attack_data, 'CW')"
      ],
      "execution_count": 75,
      "outputs": [
        {
          "output_type": "display_data",
          "data": {
            "image/png": "[encoded data removed]",
            "text/plain": [
              "<Figure size 432x288 with 20 Axes>"
            ]
          },
          "metadata": {
            "tags": []
          }
        }
      ]
    },
    {
      "cell_type": "code",
      "metadata": {
        "id": "P-VhQHQ2uvmV",
        "colab_type": "code",
        "colab": {
          "base_uri": "https://localhost:8080/",
          "height": 1000
        },
        "outputId": "aa4a93ae-7410-4e68-a82c-1c6a7cb7a9a4"
      },
      "source": [
        "#Implementing the dimensionality reduction (PCA) defense \n",
        "\n",
        "#Calculate PCA projection\n",
        "pca = PCA(100)\n",
        "pca.fit(data_train)\n",
        "pca_train = pca.transform(data_train)\n",
        "pca_test = pca.transform(data_test)\n",
        "\n",
        "#Transform perturbed CW data using the subspace from the original training data\n",
        "CW_attack_data_PCA = pca.transform(CW_attack_data)\n",
        "# create model for PCA\n",
        "def pca_model():\n",
        "    model = Sequential()\n",
        "    model.add(Dense(100,input_dim=100,\n",
        "                activation=\"relu\") )\n",
        "    model.add(BatchNormalization(axis=-1,momentum=0.99))\n",
        "    model.add(Dense(100, activation=\"relu\") )\n",
        "    model.add(BatchNormalization(axis=-1,momentum=0.99))\n",
        "    model.add(Dense(nClasses, activation = 'softmax'))  \n",
        "    return model\n",
        "\n",
        "#Create model graph, compile it, and train it using pca_train lables_train \n",
        "pca = pca_model()\n",
        "pca.compile(loss='categorical_crossentropy',\n",
        "                  optimizer = \"adam\", \n",
        "                  metrics = ['accuracy'])\n",
        "print(pca.summary())\n",
        "\n",
        "pca_metaData = pca.fit(pca_train, labels_train,\n",
        "                       validation_data = (pca_test, labels_test),\n",
        "                       epochs = 50, batch_size = 256,\n",
        "                       shuffle = True, verbose=True)"
      ],
      "execution_count": 78,
      "outputs": [
        {
          "output_type": "stream",
          "text": [
            "_________________________________________________________________\n",
            "Layer (type)                 Output Shape              Param #   \n",
            "=================================================================\n",
            "dense_19 (Dense)             (None, 100)               10100     \n",
            "_________________________________________________________________\n",
            "batch_normalization_9 (Batch (None, 100)               400       \n",
            "_________________________________________________________________\n",
            "dense_20 (Dense)             (None, 100)               10100     \n",
            "_________________________________________________________________\n",
            "batch_normalization_10 (Batc (None, 100)               400       \n",
            "_________________________________________________________________\n",
            "dense_21 (Dense)             (None, 10)                1010      \n",
            "=================================================================\n",
            "Total params: 22,010\n",
            "Trainable params: 21,610\n",
            "Non-trainable params: 400\n",
            "_________________________________________________________________\n",
            "None\n",
            "Train on 60000 samples, validate on 10000 samples\n",
            "Epoch 1/50\n",
            "60000/60000 [==============================] - 4s 64us/step - loss: 0.4676 - acc: 0.8610 - val_loss: 0.1823 - val_acc: 0.9468\n",
            "Epoch 2/50\n",
            "60000/60000 [==============================] - 1s 19us/step - loss: 0.1549 - acc: 0.9559 - val_loss: 0.1235 - val_acc: 0.9631\n",
            "Epoch 3/50\n",
            "60000/60000 [==============================] - 1s 19us/step - loss: 0.1049 - acc: 0.9701 - val_loss: 0.0978 - val_acc: 0.9701\n",
            "Epoch 4/50\n",
            "60000/60000 [==============================] - 1s 21us/step - loss: 0.0783 - acc: 0.9773 - val_loss: 0.0901 - val_acc: 0.9718\n",
            "Epoch 5/50\n",
            "60000/60000 [==============================] - 1s 20us/step - loss: 0.0604 - acc: 0.9828 - val_loss: 0.0825 - val_acc: 0.9725\n",
            "Epoch 6/50\n",
            "60000/60000 [==============================] - 1s 19us/step - loss: 0.0481 - acc: 0.9863 - val_loss: 0.0770 - val_acc: 0.9759\n",
            "Epoch 7/50\n",
            "60000/60000 [==============================] - 1s 19us/step - loss: 0.0389 - acc: 0.9891 - val_loss: 0.0751 - val_acc: 0.9759\n",
            "Epoch 8/50\n",
            "60000/60000 [==============================] - 1s 19us/step - loss: 0.0312 - acc: 0.9916 - val_loss: 0.0744 - val_acc: 0.9765\n",
            "Epoch 9/50\n",
            "60000/60000 [==============================] - 1s 20us/step - loss: 0.0256 - acc: 0.9932 - val_loss: 0.0748 - val_acc: 0.9779\n",
            "Epoch 10/50\n",
            "60000/60000 [==============================] - 1s 19us/step - loss: 0.0206 - acc: 0.9948 - val_loss: 0.0735 - val_acc: 0.9781\n",
            "Epoch 11/50\n",
            "60000/60000 [==============================] - 1s 19us/step - loss: 0.0167 - acc: 0.9960 - val_loss: 0.0767 - val_acc: 0.9773\n",
            "Epoch 12/50\n",
            "60000/60000 [==============================] - 1s 21us/step - loss: 0.0139 - acc: 0.9967 - val_loss: 0.0777 - val_acc: 0.9771\n",
            "Epoch 13/50\n",
            "60000/60000 [==============================] - 1s 20us/step - loss: 0.0128 - acc: 0.9971 - val_loss: 0.0799 - val_acc: 0.9776\n",
            "Epoch 14/50\n",
            "60000/60000 [==============================] - 1s 19us/step - loss: 0.0122 - acc: 0.9968 - val_loss: 0.0797 - val_acc: 0.9780\n",
            "Epoch 15/50\n",
            "60000/60000 [==============================] - 1s 20us/step - loss: 0.0094 - acc: 0.9978 - val_loss: 0.0807 - val_acc: 0.9785\n",
            "Epoch 16/50\n",
            "60000/60000 [==============================] - 1s 20us/step - loss: 0.0096 - acc: 0.9977 - val_loss: 0.0871 - val_acc: 0.9781\n",
            "Epoch 17/50\n",
            "60000/60000 [==============================] - 1s 20us/step - loss: 0.0083 - acc: 0.9981 - val_loss: 0.0899 - val_acc: 0.9769\n",
            "Epoch 18/50\n",
            "60000/60000 [==============================] - 1s 20us/step - loss: 0.0068 - acc: 0.9985 - val_loss: 0.0825 - val_acc: 0.9800\n",
            "Epoch 19/50\n",
            "60000/60000 [==============================] - 1s 20us/step - loss: 0.0055 - acc: 0.9989 - val_loss: 0.0819 - val_acc: 0.9785\n",
            "Epoch 20/50\n",
            "60000/60000 [==============================] - 1s 20us/step - loss: 0.0054 - acc: 0.9988 - val_loss: 0.0911 - val_acc: 0.9778\n",
            "Epoch 21/50\n",
            "60000/60000 [==============================] - 1s 19us/step - loss: 0.0069 - acc: 0.9982 - val_loss: 0.0883 - val_acc: 0.9793\n",
            "Epoch 22/50\n",
            "60000/60000 [==============================] - 1s 19us/step - loss: 0.0059 - acc: 0.9986 - val_loss: 0.0946 - val_acc: 0.9775\n",
            "Epoch 23/50\n",
            "60000/60000 [==============================] - 1s 21us/step - loss: 0.0063 - acc: 0.9983 - val_loss: 0.0948 - val_acc: 0.9773\n",
            "Epoch 24/50\n",
            "60000/60000 [==============================] - 1s 21us/step - loss: 0.0063 - acc: 0.9982 - val_loss: 0.0928 - val_acc: 0.9781\n",
            "Epoch 25/50\n",
            "60000/60000 [==============================] - 1s 20us/step - loss: 0.0071 - acc: 0.9980 - val_loss: 0.0918 - val_acc: 0.9800\n",
            "Epoch 26/50\n",
            "60000/60000 [==============================] - 1s 20us/step - loss: 0.0051 - acc: 0.9987 - val_loss: 0.0925 - val_acc: 0.9791\n",
            "Epoch 27/50\n",
            "60000/60000 [==============================] - 1s 21us/step - loss: 0.0041 - acc: 0.9990 - val_loss: 0.0932 - val_acc: 0.9794\n",
            "Epoch 28/50\n",
            "60000/60000 [==============================] - 1s 23us/step - loss: 0.0044 - acc: 0.9988 - val_loss: 0.0965 - val_acc: 0.9800\n",
            "Epoch 29/50\n",
            "60000/60000 [==============================] - 1s 20us/step - loss: 0.0051 - acc: 0.9984 - val_loss: 0.1035 - val_acc: 0.9785\n",
            "Epoch 30/50\n",
            "60000/60000 [==============================] - 1s 21us/step - loss: 0.0049 - acc: 0.9987 - val_loss: 0.0924 - val_acc: 0.9785\n",
            "Epoch 31/50\n",
            "60000/60000 [==============================] - 1s 19us/step - loss: 0.0048 - acc: 0.9986 - val_loss: 0.0996 - val_acc: 0.9780\n",
            "Epoch 32/50\n",
            "60000/60000 [==============================] - 1s 19us/step - loss: 0.0039 - acc: 0.9990 - val_loss: 0.1015 - val_acc: 0.9781\n",
            "Epoch 33/50\n",
            "60000/60000 [==============================] - 1s 19us/step - loss: 0.0038 - acc: 0.9989 - val_loss: 0.0953 - val_acc: 0.9800\n",
            "Epoch 34/50\n",
            "60000/60000 [==============================] - 1s 20us/step - loss: 0.0041 - acc: 0.9988 - val_loss: 0.1030 - val_acc: 0.9783\n",
            "Epoch 35/50\n",
            "60000/60000 [==============================] - 1s 19us/step - loss: 0.0035 - acc: 0.9989 - val_loss: 0.1001 - val_acc: 0.9787\n",
            "Epoch 36/50\n",
            "60000/60000 [==============================] - 1s 19us/step - loss: 0.0032 - acc: 0.9991 - val_loss: 0.0997 - val_acc: 0.9789\n",
            "Epoch 37/50\n",
            "60000/60000 [==============================] - 1s 19us/step - loss: 0.0036 - acc: 0.9990 - val_loss: 0.0983 - val_acc: 0.9801\n",
            "Epoch 38/50\n",
            "60000/60000 [==============================] - 1s 19us/step - loss: 0.0027 - acc: 0.9992 - val_loss: 0.1010 - val_acc: 0.9798\n",
            "Epoch 39/50\n",
            "60000/60000 [==============================] - 1s 20us/step - loss: 0.0021 - acc: 0.9996 - val_loss: 0.0990 - val_acc: 0.9796\n",
            "Epoch 40/50\n",
            "60000/60000 [==============================] - 1s 20us/step - loss: 0.0034 - acc: 0.9990 - val_loss: 0.0980 - val_acc: 0.9792\n",
            "Epoch 41/50\n",
            "60000/60000 [==============================] - 1s 20us/step - loss: 0.0057 - acc: 0.9981 - val_loss: 0.1027 - val_acc: 0.9788\n",
            "Epoch 42/50\n",
            "60000/60000 [==============================] - 1s 20us/step - loss: 0.0067 - acc: 0.9980 - val_loss: 0.1086 - val_acc: 0.9783\n",
            "Epoch 43/50\n",
            "60000/60000 [==============================] - 1s 22us/step - loss: 0.0039 - acc: 0.9988 - val_loss: 0.1009 - val_acc: 0.9802\n",
            "Epoch 44/50\n",
            "60000/60000 [==============================] - 1s 20us/step - loss: 0.0030 - acc: 0.9990 - val_loss: 0.0994 - val_acc: 0.9799\n",
            "Epoch 45/50\n",
            "60000/60000 [==============================] - 1s 19us/step - loss: 0.0019 - acc: 0.9995 - val_loss: 0.1038 - val_acc: 0.9799\n",
            "Epoch 46/50\n",
            "60000/60000 [==============================] - 1s 20us/step - loss: 0.0014 - acc: 0.9996 - val_loss: 0.1026 - val_acc: 0.9801\n",
            "Epoch 47/50\n",
            "60000/60000 [==============================] - 1s 19us/step - loss: 0.0015 - acc: 0.9997 - val_loss: 0.1049 - val_acc: 0.9806\n",
            "Epoch 48/50\n",
            "60000/60000 [==============================] - 1s 20us/step - loss: 0.0029 - acc: 0.9990 - val_loss: 0.1119 - val_acc: 0.9780\n",
            "Epoch 49/50\n",
            "60000/60000 [==============================] - 1s 20us/step - loss: 0.0024 - acc: 0.9993 - val_loss: 0.1050 - val_acc: 0.9793\n",
            "Epoch 50/50\n",
            "60000/60000 [==============================] - 1s 22us/step - loss: 0.0018 - acc: 0.9996 - val_loss: 0.1123 - val_acc: 0.9785\n"
          ],
          "name": "stdout"
        }
      ]
    },
    {
      "cell_type": "code",
      "metadata": {
        "id": "o9L61AfG2y94",
        "colab_type": "code",
        "colab": {}
      },
      "source": [
        "#Using the defense (and comparing to baseline accuracy)\n",
        "#FILL THIS IN "
      ],
      "execution_count": 0,
      "outputs": []
    },
    {
      "cell_type": "markdown",
      "metadata": {
        "id": "KP0mENqGhDt0",
        "colab_type": "text"
      },
      "source": [
        "#Part 5: DeepFool "
      ]
    },
    {
      "cell_type": "code",
      "metadata": {
        "id": "zHraovc2hES3",
        "colab_type": "code",
        "colab": {
          "base_uri": "https://localhost:8080/",
          "height": 107
        },
        "outputId": "6619e054-17ed-41d9-83d0-ef20963c7bae"
      },
      "source": [
        "#Implementing the DeepFool attack\n",
        "\n",
        "#DeepFool Instance on trained classifier from Part 1\n",
        "DF = DeepFool(wrap, sess = sess)\n",
        "DF_params = {'np_candidate': 10,\n",
        "             'max_iter': 50,\n",
        "             'clip_min': 0.0,\n",
        "             'clip_max': 1.0}\n",
        "\n",
        "#Generate adversarial data\n",
        "DF_attack_data = DF.generate_np(data_test, **DF_params)\n",
        "\n",
        "#Evaluate accuracy on target classifier \n",
        "DF_adv_scores = model.evaluate(DF_attack_data, labels_test)\n",
        "print(\"Accuracy when subject to DeepFool Adversarial Attacks: %0.4f%%\" %(DF_adv_scores[1]*100) )"
      ],
      "execution_count": 79,
      "outputs": [
        {
          "output_type": "stream",
          "text": [
            "/usr/local/lib/python2.7/dist-packages/cleverhans/attacks.py:179: UserWarning: Supplied extra keyword arguments that are not used in the graph computation. They have been ignored.\n",
            "  warnings.warn(\"Supplied extra keyword arguments that are not \"\n"
          ],
          "name": "stderr"
        },
        {
          "output_type": "stream",
          "text": [
            "10000/10000 [==============================] - 2s 226us/step\n",
            "Accuracy when subject to DeepFool Adversarial Attacks: 3.8000%\n"
          ],
          "name": "stdout"
        }
      ]
    },
    {
      "cell_type": "code",
      "metadata": {
        "id": "zEsLfmxThZ6M",
        "colab_type": "code",
        "colab": {
          "base_uri": "https://localhost:8080/",
          "height": 258
        },
        "outputId": "275dab9f-21dd-45c3-d9ac-204429189d55"
      },
      "source": [
        "#Show ten original samples and their corresponding adversarial samples\n",
        "tenPlotter(data_test, DF_attack_data, 'DeepFool')"
      ],
      "execution_count": 80,
      "outputs": [
        {
          "output_type": "display_data",
          "data": {
            "image/png": "[encoded data removed]",
            "text/plain": [
              "<Figure size 432x288 with 20 Axes>"
            ]
          },
          "metadata": {
            "tags": []
          }
        }
      ]
    },
    {
      "cell_type": "code",
      "metadata": {
        "id": "tOapt7QaM4U_",
        "colab_type": "code",
        "colab": {}
      },
      "source": [
        "#Implementing the Denoising Autoencoder Defense\n",
        "\n",
        "def autoencoder():\n",
        "    ae = Sequential()\n",
        "    ae.add(Dense(400, activation=None, kernel_initializer=\"normal\", input_dim=784))\n",
        "    ae.add(Dense(200, activation=None, kernel_initializer='normal'))\n",
        "    ae.add(Dense(100, activation=None, kernel_initializer='normal'))\n",
        "    ae.add(Dense(200, activation=None, kernel_initializer='normal'))\n",
        "    ae.add(Dense(400, activation=None, kernel_initializer='normal'))\n",
        "    ae.add(Dense(784, activation='sigmoid', kernel_initializer='normal'))\n",
        "    return ae\n",
        "\n",
        "#Create training data for DAE \n",
        "df_attack_data_train = deepfool.generate_np(data_train, **fgm_params)\n",
        "data_total_train = np.concatenate([df_attack_data_train, data_train])\n",
        "\n",
        "#Create and train DAE graph\n",
        "#FILL THIS IN"
      ],
      "execution_count": 0,
      "outputs": []
    },
    {
      "cell_type": "code",
      "metadata": {
        "id": "5CjKifVRNMMV",
        "colab_type": "code",
        "colab": {}
      },
      "source": [
        "#Using the defense\n",
        "\n",
        "#Use DAE to to remove adversarial perturbation \n",
        "#FILL THIS IN\n",
        "\n",
        "#Evaluate accuracy of FGM samples after denoising \n",
        "#FILL THIS IN"
      ],
      "execution_count": 0,
      "outputs": []
    },
    {
      "cell_type": "code",
      "metadata": {
        "id": "6NSAW0v3NSMB",
        "colab_type": "code",
        "colab": {}
      },
      "source": [
        "#Show ten samples of adversarial samples after denoising\n",
        "#FILL THIS IN"
      ],
      "execution_count": 0,
      "outputs": []
    }
  ]
}